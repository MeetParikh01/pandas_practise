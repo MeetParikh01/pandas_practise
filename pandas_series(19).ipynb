{
 "cells": [
  {
   "cell_type": "code",
   "execution_count": 1,
   "metadata": {},
   "outputs": [],
   "source": [
    "import pandas as pd\n",
    "import numpy as np"
   ]
  },
  {
   "cell_type": "code",
   "execution_count": 6,
   "metadata": {},
   "outputs": [
    {
     "data": {
      "text/plain": [
       "0     2\n",
       "1     1\n",
       "2     8\n",
       "3     1\n",
       "4     0\n",
       "5     5\n",
       "6     7\n",
       "7     4\n",
       "8     9\n",
       "9     0\n",
       "10    3\n",
       "11    9\n",
       "12    2\n",
       "13    4\n",
       "14    0\n",
       "15    1\n",
       "16    4\n",
       "17    5\n",
       "18    6\n",
       "19    2\n",
       "20    0\n",
       "21    9\n",
       "22    7\n",
       "23    0\n",
       "24    4\n",
       "25    4\n",
       "26    6\n",
       "27    9\n",
       "28    3\n",
       "29    5\n",
       "30    9\n",
       "31    7\n",
       "32    6\n",
       "33    8\n",
       "34    8\n",
       "35    4\n",
       "36    1\n",
       "37    1\n",
       "38    6\n",
       "39    1\n",
       "dtype: int64"
      ]
     },
     "execution_count": 6,
     "metadata": {},
     "output_type": "execute_result"
    }
   ],
   "source": [
    "ps = pd.Series(np.random.randint(0,10,40))\n",
    "ps"
   ]
  },
  {
   "cell_type": "code",
   "execution_count": 13,
   "metadata": {},
   "outputs": [
    {
     "data": {
      "text/plain": [
       "4    6\n",
       "1    6\n",
       "9    5\n",
       "0    5\n",
       "6    4\n",
       "8    3\n",
       "7    3\n",
       "5    3\n",
       "2    3\n",
       "3    2\n",
       "dtype: int64"
      ]
     },
     "execution_count": 13,
     "metadata": {},
     "output_type": "execute_result"
    }
   ],
   "source": [
    "counts = pd.value_counts(ps)\n",
    "counts"
   ]
  },
  {
   "cell_type": "code",
   "execution_count": 15,
   "metadata": {},
   "outputs": [
    {
     "data": {
      "text/plain": [
       "(array([0, 1, 2, 3, 4, 5, 6, 7, 8, 9]), array([5, 6, 3, 2, 6, 3, 4, 3, 3, 5]))"
      ]
     },
     "execution_count": 15,
     "metadata": {},
     "output_type": "execute_result"
    }
   ],
   "source": [
    "counts = np.unique(ps, return_counts=True)"
   ]
  },
  {
   "cell_type": "code",
   "execution_count": 28,
   "metadata": {},
   "outputs": [
    {
     "data": {
      "text/plain": [
       "4    6\n",
       "1    6\n",
       "9    5\n",
       "0    5\n",
       "6    4\n",
       "8    3\n",
       "7    3\n",
       "5    3\n",
       "2    3\n",
       "3    2\n",
       "dtype: int64"
      ]
     },
     "execution_count": 28,
     "metadata": {},
     "output_type": "execute_result"
    }
   ],
   "source": [
    "counts.T"
   ]
  },
  {
   "cell_type": "code",
   "execution_count": null,
   "metadata": {},
   "outputs": [],
   "source": []
  }
 ],
 "metadata": {
  "kernelspec": {
   "display_name": "Python 3",
   "language": "python",
   "name": "python3"
  },
  "language_info": {
   "codemirror_mode": {
    "name": "ipython",
    "version": 3
   },
   "file_extension": ".py",
   "mimetype": "text/x-python",
   "name": "python",
   "nbconvert_exporter": "python",
   "pygments_lexer": "ipython3",
   "version": "3.6.8"
  }
 },
 "nbformat": 4,
 "nbformat_minor": 4
}
